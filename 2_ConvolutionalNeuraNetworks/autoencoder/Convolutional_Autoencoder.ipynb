{
 "cells": [
  {
   "cell_type": "markdown",
   "metadata": {},
   "source": [
    "# Convolutional Autoencoder\n",
    "\n",
    "Sticking with the MNIST dataset, let's improve our autoencoder's performance using convolutional layers. Again, loading modules and the data."
   ]
  },
  {
   "cell_type": "code",
   "execution_count": 1,
   "metadata": {
    "collapsed": true
   },
   "outputs": [],
   "source": [
    "%matplotlib inline\n",
    "\n",
    "import numpy as np\n",
    "import tensorflow as tf\n",
    "import matplotlib.pyplot as plt"
   ]
  },
  {
   "cell_type": "code",
   "execution_count": 2,
   "metadata": {
    "collapsed": false
   },
   "outputs": [
    {
     "name": "stdout",
     "output_type": "stream",
     "text": [
      "Extracting MNIST_data/train-images-idx3-ubyte.gz\n",
      "Extracting MNIST_data/train-labels-idx1-ubyte.gz\n",
      "Extracting MNIST_data/t10k-images-idx3-ubyte.gz\n",
      "Extracting MNIST_data/t10k-labels-idx1-ubyte.gz\n"
     ]
    }
   ],
   "source": [
    "from tensorflow.examples.tutorials.mnist import input_data\n",
    "mnist = input_data.read_data_sets('MNIST_data', validation_size=0)"
   ]
  },
  {
   "cell_type": "code",
   "execution_count": 3,
   "metadata": {
    "collapsed": false
   },
   "outputs": [
    {
     "data": {
      "text/plain": [
       "<matplotlib.image.AxesImage at 0x1245ff3c8>"
      ]
     },
     "execution_count": 3,
     "metadata": {},
     "output_type": "execute_result"
    },
    {
     "data": {
      "image/png": "[encoded data removed]",
      "text/plain": [
       "<matplotlib.figure.Figure at 0x116909b70>"
      ]
     },
     "metadata": {},
     "output_type": "display_data"
    }
   ],
   "source": [
    "img = mnist.train.images[2]\n",
    "plt.imshow(img.reshape((28, 28)), cmap='Greys_r')"
   ]
  },
  {
   "cell_type": "markdown",
   "metadata": {},
   "source": [
    "## Network Architecture\n",
    "\n",
    "The encoder part of the network will be a typical convolutional pyramid. Each convolutional layer will be followed by a max-pooling layer to reduce the dimensions of the layers. The decoder though might be something new to you. The decoder needs to convert from a narrow representation to a wide reconstructed image. For example, the representation could be a 4x4x8 max-pool layer. This is the output of the encoder, but also the input to the decoder. We want to get a 28x28x1 image out from the decoder so we need to work our way back up from the narrow decoder input layer. A schematic of the network is shown below.\n",
    "\n",
    "![Convolutional Autoencoder](assets/convolutional_autoencoder.png)\n",
    "\n",
    "Here our final encoder layer has size 4x4x8 = 128. The original images have size 28x28 = 784, so the encoded vector is roughlt 16% the size of the original image. These are just suggested sizes for each of the layers. Feel free to change the depths and sizes, but remember our goal here is to find a small representation of the input data.\n",
    "\n",
    "### What's going on with the decoder\n",
    "\n",
    "Okay, so the decoder has these \"Upsample\" layers that you might not have seen before. First off, I'll discuss a bit what these layers *aren't*. Usually, you'll see **deconvolutional** layers used to increase the width and height of the layers. They work almost exactly the same as convolutional layers, but it reverse. A stride in the input layer results in a larger stride in the deconvolutional layer. For example, if you have a 3x3 kernel, a 3x3 patch in the input layer will be reduced to one unit in a convolutional layer. Comparatively, one unit in the input layer will be expanded to a 3x3 path in a deconvolutional layer. Deconvolution is often called \"transpose convolution\" which is what you'll find with the TensorFlow API, with [`tf.nn.conv2d_transpose`](https://www.tensorflow.org/api_docs/python/tf/nn/conv2d_transpose). \n",
    "\n",
    "However, deconvolutional layers can lead to artifacts in the final images, such as checkerboard patterns. This is due to overlap in the kernels which can be avoided by setting the stride and kernel size equal. In [this Distill article](http://distill.pub/2016/deconv-checkerboard/) from Augustus Odena, *et al*, the authors show that these checkerboard artifacts can be avoided by resizing the layers using nearest neighbor or bilinear interpolation (upsampling) followed by a convolutional layer. In TensorFlow, this is easily done with [`tf.image.resize_images`](https://www.tensorflow.org/versions/r1.1/api_docs/python/tf/image/resize_images), followed by a convolution. Be sure to read the Distill article to get a better understanding of deconvolutional layers and why we're using upsampling.\n",
    "\n",
    "> **Exercise:** Build the network shown above. Remember that a convolutional layer with strides of 1 and 'same' padding won't reduce the height and width. That is, if the input is 28x28 and the convolution layer has stride = 1 and 'same' padding, the convolutional layer will also be 28x28. The max-pool layers are used the reduce the width and height. A stride of 2 will reduce the size by 2. Odena *et al* claim that nearest neighbor interpolation works best for the upsampling, so make sure to include that as a parameter in `tf.image.resize_images` or use [`tf.image.resize_nearest_neighbor`]( `https://www.tensorflow.org/api_docs/python/tf/image/resize_nearest_neighbor)."
   ]
  },
  {
   "cell_type": "code",
   "execution_count": 16,
   "metadata": {
    "collapsed": false
   },
   "outputs": [],
   "source": [
    "learning_rate = 0.001\n",
    "\n",
    "inputs_ = tf.placeholder(tf.float32, shape=(None, 28, 28, 1), name=\"inputs\")\n",
    "targets_ = tf.placeholder(tf.float32, shape=(None, 28, 28, 1), name=\"targets\")\n",
    "\n",
    "### Encoder\n",
    "conv1 = tf.layers.conv2d(inputs=inputs_, filters=16, kernel_size=3, strides=1, padding='SAME', activation=tf.nn.relu)\n",
    "# Now 28x28x16\n",
    "maxpool1 = tf.layers.max_pooling2d(inputs=conv1, pool_size=2, strides=2, padding='SAME')\n",
    "# Now 14x14x16\n",
    "conv2 = tf.layers.conv2d(inputs=maxpool1, filters=8, kernel_size=3, strides=1, padding='SAME', activation=tf.nn.relu)\n",
    "# Now 14x14x8\n",
    "maxpool2 = tf.layers.max_pooling2d(inputs=conv2, pool_size=2, strides=2, padding='SAME')\n",
    "# Now 7x7x8\n",
    "conv3 = tf.layers.conv2d(inputs=maxpool2, filters=8, kernel_size=3, strides=1, padding='SAME', activation=tf.nn.relu)\n",
    "# Now 7x7x8\n",
    "encoded = tf.layers.max_pooling2d(inputs=conv3, pool_size=2, strides=2, padding='SAME')\n",
    "# Now 4x4x8\n",
    "\n",
    "### Decoder\n",
    "upsample1 = tf.image.resize_nearest_neighbor(images=encoded, size=[7, 7])\n",
    "# Now 7x7x8\n",
    "conv4 = tf.layers.conv2d(inputs=upsample1, filters=8, kernel_size=3, strides=1, padding='SAME', activation=tf.nn.relu)\n",
    "# Now 7x7x8\n",
    "upsample2 = tf.image.resize_nearest_neighbor(images=conv4, size=[14, 14])\n",
    "# Now 14x14x8\n",
    "conv5 = tf.layers.conv2d(inputs=upsample2, filters=8, kernel_size=3, strides=1, padding='SAME', activation=tf.nn.relu)\n",
    "# Now 14x14x8\n",
    "upsample3 = tf.image.resize_nearest_neighbor(images=conv5, size=[28, 28])\n",
    "# Now 28x28x8\n",
    "conv6 = tf.layers.conv2d(inputs=upsample3, filters=16, kernel_size=3, strides=1, padding='SAME', activation=tf.nn.relu)\n",
    "# Now 28x28x16\n",
    "\n",
    "logits = tf.layers.conv2d(inputs=conv6, filters=1, kernel_size=3, strides=1, padding='SAME', activation=None)\n",
    "#Now 28x28x1\n",
    "\n",
    "# Pass logits through sigmoid to get reconstructed image\n",
    "decoded = tf.nn.sigmoid(logits)\n",
    "\n",
    "# Pass logits through sigmoid and calculate the cross-entropy loss\n",
    "loss = tf.nn.sigmoid_cross_entropy_with_logits(labels=targets_, logits=logits)\n",
    "\n",
    "# Get cost and define the optimizer\n",
    "cost = tf.reduce_mean(loss)\n",
    "opt = tf.train.AdamOptimizer(learning_rate).minimize(cost)"
   ]
  },
  {
   "cell_type": "markdown",
   "metadata": {},
   "source": [
    "## Training\n",
    "\n",
    "As before, here wi'll train the network. Instead of flattening the images though, we can pass them in as 28x28x1 arrays."
   ]
  },
  {
   "cell_type": "code",
   "execution_count": 17,
   "metadata": {
    "collapsed": true
   },
   "outputs": [],
   "source": [
    "sess = tf.Session()"
   ]
  },
  {
   "cell_type": "code",
   "execution_count": 22,
   "metadata": {
    "collapsed": false,
    "scrolled": true
   },
   "outputs": [
    {
     "name": "stdout",
     "output_type": "stream",
     "text": [
      "Epoch: 1/20... Batch: 1/300... Training loss: 0.6964\n",
      "Epoch: 1/20... Batch: 100/300... Training loss: 0.2132\n",
      "Epoch: 1/20... Batch: 200/300... Training loss: 0.1607\n",
      "Epoch: 1/20... Batch: 300/300... Training loss: 0.1509\n",
      "Epoch: 2/20... Batch: 1/300... Training loss: 0.1463\n",
      "Epoch: 2/20... Batch: 100/300... Training loss: 0.1410\n",
      "Epoch: 2/20... Batch: 200/300... Training loss: 0.1317\n",
      "Epoch: 2/20... Batch: 300/300... Training loss: 0.1255\n",
      "Epoch: 3/20... Batch: 1/300... Training loss: 0.1288\n",
      "Epoch: 3/20... Batch: 100/300... Training loss: 0.1180\n",
      "Epoch: 3/20... Batch: 200/300... Training loss: 0.1191\n",
      "Epoch: 3/20... Batch: 300/300... Training loss: 0.1162\n",
      "Epoch: 4/20... Batch: 1/300... Training loss: 0.1170\n",
      "Epoch: 4/20... Batch: 100/300... Training loss: 0.1171\n",
      "Epoch: 4/20... Batch: 200/300... Training loss: 0.1182\n",
      "Epoch: 4/20... Batch: 300/300... Training loss: 0.1116\n",
      "Epoch: 5/20... Batch: 1/300... Training loss: 0.1154\n",
      "Epoch: 5/20... Batch: 100/300... Training loss: 0.1137\n",
      "Epoch: 5/20... Batch: 200/300... Training loss: 0.1111\n",
      "Epoch: 5/20... Batch: 300/300... Training loss: 0.1075\n",
      "Epoch: 6/20... Batch: 1/300... Training loss: 0.1098\n",
      "Epoch: 6/20... Batch: 100/300... Training loss: 0.1080\n",
      "Epoch: 6/20... Batch: 200/300... Training loss: 0.1085\n",
      "Epoch: 6/20... Batch: 300/300... Training loss: 0.1138\n",
      "Epoch: 7/20... Batch: 1/300... Training loss: 0.1126\n",
      "Epoch: 7/20... Batch: 100/300... Training loss: 0.1112\n",
      "Epoch: 7/20... Batch: 200/300... Training loss: 0.1070\n",
      "Epoch: 7/20... Batch: 300/300... Training loss: 0.1063\n",
      "Epoch: 8/20... Batch: 1/300... Training loss: 0.1075\n",
      "Epoch: 8/20... Batch: 100/300... Training loss: 0.1037\n",
      "Epoch: 8/20... Batch: 200/300... Training loss: 0.1070\n",
      "Epoch: 8/20... Batch: 300/300... Training loss: 0.1054\n",
      "Epoch: 9/20... Batch: 1/300... Training loss: 0.1083\n",
      "Epoch: 9/20... Batch: 100/300... Training loss: 0.0996\n",
      "Epoch: 9/20... Batch: 200/300... Training loss: 0.1021\n",
      "Epoch: 9/20... Batch: 300/300... Training loss: 0.1072\n",
      "Epoch: 10/20... Batch: 1/300... Training loss: 0.1055\n",
      "Epoch: 10/20... Batch: 100/300... Training loss: 0.0997\n",
      "Epoch: 10/20... Batch: 200/300... Training loss: 0.1095\n",
      "Epoch: 10/20... Batch: 300/300... Training loss: 0.1044\n",
      "Epoch: 11/20... Batch: 1/300... Training loss: 0.1035\n",
      "Epoch: 11/20... Batch: 100/300... Training loss: 0.1051\n",
      "Epoch: 11/20... Batch: 200/300... Training loss: 0.1030\n",
      "Epoch: 11/20... Batch: 300/300... Training loss: 0.0989\n",
      "Epoch: 12/20... Batch: 1/300... Training loss: 0.0996\n",
      "Epoch: 12/20... Batch: 100/300... Training loss: 0.1039\n",
      "Epoch: 12/20... Batch: 200/300... Training loss: 0.0997\n",
      "Epoch: 12/20... Batch: 300/300... Training loss: 0.1013\n",
      "Epoch: 13/20... Batch: 1/300... Training loss: 0.1000\n",
      "Epoch: 13/20... Batch: 100/300... Training loss: 0.1038\n",
      "Epoch: 13/20... Batch: 200/300... Training loss: 0.1010\n",
      "Epoch: 13/20... Batch: 300/300... Training loss: 0.0989\n",
      "Epoch: 14/20... Batch: 1/300... Training loss: 0.0994\n",
      "Epoch: 14/20... Batch: 100/300... Training loss: 0.1018\n",
      "Epoch: 14/20... Batch: 200/300... Training loss: 0.1009\n",
      "Epoch: 14/20... Batch: 300/300... Training loss: 0.0958\n",
      "Epoch: 15/20... Batch: 1/300... Training loss: 0.0995\n",
      "Epoch: 15/20... Batch: 100/300... Training loss: 0.1030\n",
      "Epoch: 15/20... Batch: 200/300... Training loss: 0.0972\n",
      "Epoch: 15/20... Batch: 300/300... Training loss: 0.0980\n",
      "Epoch: 16/20... Batch: 1/300... Training loss: 0.0973\n",
      "Epoch: 16/20... Batch: 100/300... Training loss: 0.0975\n",
      "Epoch: 16/20... Batch: 200/300... Training loss: 0.0982\n",
      "Epoch: 16/20... Batch: 300/300... Training loss: 0.0982\n",
      "Epoch: 17/20... Batch: 1/300... Training loss: 0.0982\n",
      "Epoch: 17/20... Batch: 100/300... Training loss: 0.0992\n",
      "Epoch: 17/20... Batch: 200/300... Training loss: 0.1041\n",
      "Epoch: 17/20... Batch: 300/300... Training loss: 0.1022\n",
      "Epoch: 18/20... Batch: 1/300... Training loss: 0.0984\n",
      "Epoch: 18/20... Batch: 100/300... Training loss: 0.0981\n",
      "Epoch: 18/20... Batch: 200/300... Training loss: 0.0977\n",
      "Epoch: 18/20... Batch: 300/300... Training loss: 0.0971\n",
      "Epoch: 19/20... Batch: 1/300... Training loss: 0.0965\n",
      "Epoch: 19/20... Batch: 100/300... Training loss: 0.0985\n",
      "Epoch: 19/20... Batch: 200/300... Training loss: 0.0962\n",
      "Epoch: 19/20... Batch: 300/300... Training loss: 0.0975\n",
      "Epoch: 20/20... Batch: 1/300... Training loss: 0.0962\n",
      "Epoch: 20/20... Batch: 100/300... Training loss: 0.1000\n",
      "Epoch: 20/20... Batch: 200/300... Training loss: 0.0976\n",
      "Epoch: 20/20... Batch: 300/300... Training loss: 0.0976\n"
     ]
    }
   ],
   "source": [
    "epochs = 20\n",
    "batch_size = 200\n",
    "sess.run(tf.global_variables_initializer())\n",
    "for e in range(epochs):\n",
    "    for ii in range(mnist.train.num_examples//batch_size):\n",
    "        batch = mnist.train.next_batch(batch_size)\n",
    "        imgs = batch[0].reshape((-1, 28, 28, 1))\n",
    "        batch_cost, _ = sess.run([cost, opt], feed_dict={inputs_: imgs,\n",
    "                                                         targets_: imgs})\n",
    "        if ii==0 or (ii+1)%100==0:\n",
    "            print(\"Epoch: {}/{}...\".format(e+1, epochs),\n",
    "                  \"Batch: {}/{}...\".format(ii+1, mnist.train.num_examples//batch_size),\n",
    "                  \"Training loss: {:.4f}\".format(batch_cost))"
   ]
  },
  {
   "cell_type": "code",
   "execution_count": 23,
   "metadata": {
    "collapsed": false
   },
   "outputs": [
    {
     "data": {
      "image/png": "[encoded data removed]",
      "text/plain": [
       "<matplotlib.figure.Figure at 0x11a9a92b0>"
      ]
     },
     "metadata": {},
     "output_type": "display_data"
    }
   ],
   "source": [
    "fig, axes = plt.subplots(nrows=2, ncols=10, sharex=True, sharey=True, figsize=(20,4))\n",
    "in_imgs = mnist.test.images[:10]\n",
    "reconstructed = sess.run(decoded, feed_dict={inputs_: in_imgs.reshape((10, 28, 28, 1))})\n",
    "\n",
    "for images, row in zip([in_imgs, reconstructed], axes):\n",
    "    for img, ax in zip(images, row):\n",
    "        ax.imshow(img.reshape((28, 28)), cmap='Greys_r')\n",
    "        ax.get_xaxis().set_visible(False)\n",
    "        ax.get_yaxis().set_visible(False)\n",
    "\n",
    "\n",
    "fig.tight_layout(pad=0.1)"
   ]
  },
  {
   "cell_type": "code",
   "execution_count": 19,
   "metadata": {
    "collapsed": true
   },
   "outputs": [],
   "source": [
    "sess.close()"
   ]
  },
  {
   "cell_type": "markdown",
   "metadata": {},
   "source": [
    "## Denoising\n",
    "\n",
    "As I've mentioned before, autoencoders like the ones you've built so far aren't too useful in practive. However, they can be used to denoise images quite successfully just by training the network on noisy images. We can create the noisy images ourselves by adding Gaussian noise to the training images, then clipping the values to be between 0 and 1. We'll use noisy images as input and the original, clean images as targets. Here's an example of the noisy images I generated and the denoised images.\n",
    "\n",
    "![Denoising autoencoder](assets/denoising.png)\n",
    "\n",
    "\n",
    "Since this is a harder problem for the network, we'll want to use deeper convolutional layers here, more feature maps. I suggest something like 32-32-16 for the depths of the convolutional layers in the encoder, and the same depths going backward through the decoder. Otherwise the architecture is the same as before.\n",
    "\n",
    "> **Exercise:** Build the network for the denoising autoencoder. It's the same as before, but with deeper layers. I suggest 32-32-16 for the depths, but you can play with these numbers, or add more layers."
   ]
  },
  {
   "cell_type": "code",
   "execution_count": 24,
   "metadata": {
    "collapsed": true
   },
   "outputs": [],
   "source": [
    "learning_rate = 0.001\n",
    "inputs_ = tf.placeholder(tf.float32, (None, 28, 28, 1), name='inputs')\n",
    "targets_ = tf.placeholder(tf.float32, (None, 28, 28, 1), name='targets')\n",
    "\n",
    "### Encoder\n",
    "conv1 = tf.layers.conv2d(inputs_, 32, 3, padding='SAME', activation=tf.nn.relu)\n",
    "# Now 28x28x32\n",
    "maxpool1 = tf.layers.max_pooling2d(conv1, 2, 2, padding='SAME')\n",
    "# Now 14x14x32\n",
    "conv2 = tf.layers.conv2d(maxpool1, 32, 3, padding='SAME', activation=tf.nn.relu)\n",
    "# Now 14x14x32\n",
    "maxpool2 = tf.layers.max_pooling2d(conv2, 2, 2, padding='SAME')\n",
    "# Now 7x7x32\n",
    "conv3 = tf.layers.conv2d(maxpool2, 16, 3, padding='SAME', activation=tf.nn.relu)\n",
    "# Now 7x7x16\n",
    "encoded = tf.layers.max_pooling2d(conv3, 2, 2, padding='SAME')\n",
    "# Now 4x4x16\n",
    "\n",
    "### Decoder\n",
    "upsample1 = tf.image.resize_nearest_neighbor(encoded, [7, 7])\n",
    "# Now 7x7x16\n",
    "conv4 = tf.layers.conv2d(upsample1, 16, 3, padding='SAME', activation=tf.nn.relu)\n",
    "# Now 7x7x16\n",
    "upsample2 = tf.image.resize_nearest_neighbor(conv4, [14, 14])\n",
    "# Now 14x14x16\n",
    "conv5 = tf.layers.conv2d(upsample2, 32, 3, padding='SAME', activation=tf.nn.relu)\n",
    "# Now 14x14x32\n",
    "upsample3 = tf.image.resize_nearest_neighbor(conv4, [28, 28])\n",
    "# Now 28x28x32\n",
    "conv6 = tf.layers.conv2d(upsample3, 32, 3, padding='SAME', activation=tf.nn.relu)\n",
    "# Now 28x28x32\n",
    "\n",
    "logits = tf.layers.conv2d(conv6, 1, 3, padding='SAME', activation=None)\n",
    "#Now 28x28x1\n",
    "\n",
    "# Pass logits through sigmoid to get reconstructed image\n",
    "decoded = tf.nn.sigmoid(logits)\n",
    "\n",
    "# Pass logits through sigmoid and calculate the cross-entropy loss\n",
    "loss = tf.nn.sigmoid_cross_entropy_with_logits(labels=targets_, logits=logits)\n",
    "\n",
    "# Get cost and define the optimizer\n",
    "cost = tf.reduce_mean(loss)\n",
    "opt = tf.train.AdamOptimizer(learning_rate).minimize(cost)"
   ]
  },
  {
   "cell_type": "code",
   "execution_count": 25,
   "metadata": {
    "collapsed": true
   },
   "outputs": [],
   "source": [
    "sess = tf.Session()"
   ]
  },
  {
   "cell_type": "code",
   "execution_count": 26,
   "metadata": {
    "collapsed": false
   },
   "outputs": [
    {
     "name": "stdout",
     "output_type": "stream",
     "text": [
      "Epoch: 1/10... Batch: 1/300... Training loss: 0.6880\n",
      "Epoch: 1/10... Batch: 50/300... Training loss: 0.2605\n",
      "Epoch: 1/10... Batch: 100/300... Training loss: 0.2212\n",
      "Epoch: 1/10... Batch: 150/300... Training loss: 0.2047\n",
      "Epoch: 1/10... Batch: 200/300... Training loss: 0.1906\n",
      "Epoch: 1/10... Batch: 250/300... Training loss: 0.1752\n",
      "Epoch: 1/10... Batch: 300/300... Training loss: 0.1695\n",
      "Epoch: 2/10... Batch: 1/300... Training loss: 0.1673\n",
      "Epoch: 2/10... Batch: 50/300... Training loss: 0.1708\n",
      "Epoch: 2/10... Batch: 100/300... Training loss: 0.1646\n",
      "Epoch: 2/10... Batch: 150/300... Training loss: 0.1645\n",
      "Epoch: 2/10... Batch: 200/300... Training loss: 0.1549\n",
      "Epoch: 2/10... Batch: 250/300... Training loss: 0.1603\n",
      "Epoch: 2/10... Batch: 300/300... Training loss: 0.1518\n",
      "Epoch: 3/10... Batch: 1/300... Training loss: 0.1522\n",
      "Epoch: 3/10... Batch: 50/300... Training loss: 0.1496\n",
      "Epoch: 3/10... Batch: 100/300... Training loss: 0.1505\n",
      "Epoch: 3/10... Batch: 150/300... Training loss: 0.1465\n",
      "Epoch: 3/10... Batch: 200/300... Training loss: 0.1493\n",
      "Epoch: 3/10... Batch: 250/300... Training loss: 0.1432\n",
      "Epoch: 3/10... Batch: 300/300... Training loss: 0.1496\n",
      "Epoch: 4/10... Batch: 1/300... Training loss: 0.1462\n",
      "Epoch: 4/10... Batch: 50/300... Training loss: 0.1389\n",
      "Epoch: 4/10... Batch: 100/300... Training loss: 0.1436\n",
      "Epoch: 4/10... Batch: 150/300... Training loss: 0.1422\n",
      "Epoch: 4/10... Batch: 200/300... Training loss: 0.1371\n",
      "Epoch: 4/10... Batch: 250/300... Training loss: 0.1418\n",
      "Epoch: 4/10... Batch: 300/300... Training loss: 0.1360\n",
      "Epoch: 5/10... Batch: 1/300... Training loss: 0.1408\n",
      "Epoch: 5/10... Batch: 50/300... Training loss: 0.1385\n",
      "Epoch: 5/10... Batch: 100/300... Training loss: 0.1346\n",
      "Epoch: 5/10... Batch: 150/300... Training loss: 0.1412\n",
      "Epoch: 5/10... Batch: 200/300... Training loss: 0.1307\n",
      "Epoch: 5/10... Batch: 250/300... Training loss: 0.1364\n",
      "Epoch: 5/10... Batch: 300/300... Training loss: 0.1340\n",
      "Epoch: 6/10... Batch: 1/300... Training loss: 0.1401\n",
      "Epoch: 6/10... Batch: 50/300... Training loss: 0.1372\n",
      "Epoch: 6/10... Batch: 100/300... Training loss: 0.1311\n",
      "Epoch: 6/10... Batch: 150/300... Training loss: 0.1319\n",
      "Epoch: 6/10... Batch: 200/300... Training loss: 0.1371\n",
      "Epoch: 6/10... Batch: 250/300... Training loss: 0.1314\n",
      "Epoch: 6/10... Batch: 300/300... Training loss: 0.1273\n",
      "Epoch: 7/10... Batch: 1/300... Training loss: 0.1326\n",
      "Epoch: 7/10... Batch: 50/300... Training loss: 0.1368\n",
      "Epoch: 7/10... Batch: 100/300... Training loss: 0.1321\n",
      "Epoch: 7/10... Batch: 150/300... Training loss: 0.1307\n",
      "Epoch: 7/10... Batch: 200/300... Training loss: 0.1344\n",
      "Epoch: 7/10... Batch: 250/300... Training loss: 0.1309\n",
      "Epoch: 7/10... Batch: 300/300... Training loss: 0.1301\n",
      "Epoch: 8/10... Batch: 1/300... Training loss: 0.1278\n",
      "Epoch: 8/10... Batch: 50/300... Training loss: 0.1257\n",
      "Epoch: 8/10... Batch: 100/300... Training loss: 0.1265\n",
      "Epoch: 8/10... Batch: 150/300... Training loss: 0.1251\n",
      "Epoch: 8/10... Batch: 200/300... Training loss: 0.1225\n",
      "Epoch: 8/10... Batch: 250/300... Training loss: 0.1262\n",
      "Epoch: 8/10... Batch: 300/300... Training loss: 0.1281\n",
      "Epoch: 9/10... Batch: 1/300... Training loss: 0.1261\n",
      "Epoch: 9/10... Batch: 50/300... Training loss: 0.1297\n",
      "Epoch: 9/10... Batch: 100/300... Training loss: 0.1227\n",
      "Epoch: 9/10... Batch: 150/300... Training loss: 0.1256\n",
      "Epoch: 9/10... Batch: 200/300... Training loss: 0.1222\n",
      "Epoch: 9/10... Batch: 250/300... Training loss: 0.1258\n",
      "Epoch: 9/10... Batch: 300/300... Training loss: 0.1259\n",
      "Epoch: 10/10... Batch: 1/300... Training loss: 0.1233\n",
      "Epoch: 10/10... Batch: 50/300... Training loss: 0.1232\n",
      "Epoch: 10/10... Batch: 100/300... Training loss: 0.1279\n",
      "Epoch: 10/10... Batch: 150/300... Training loss: 0.1241\n",
      "Epoch: 10/10... Batch: 200/300... Training loss: 0.1266\n",
      "Epoch: 10/10... Batch: 250/300... Training loss: 0.1207\n",
      "Epoch: 10/10... Batch: 300/300... Training loss: 0.1242\n"
     ]
    }
   ],
   "source": [
    "epochs = 10\n",
    "batch_size = 200\n",
    "# Set's how much noise we're adding to the MNIST images\n",
    "noise_factor = 0.5\n",
    "sess.run(tf.global_variables_initializer())\n",
    "for e in range(epochs):\n",
    "    for ii in range(mnist.train.num_examples//batch_size):\n",
    "        batch = mnist.train.next_batch(batch_size)\n",
    "        # Get images from the batch\n",
    "        imgs = batch[0].reshape((-1, 28, 28, 1))\n",
    "        \n",
    "        # Add random noise to the input images\n",
    "        noisy_imgs = imgs + noise_factor * np.random.randn(*imgs.shape)\n",
    "        # Clip the images to be between 0 and 1\n",
    "        noisy_imgs = np.clip(noisy_imgs, 0., 1.)\n",
    "        \n",
    "        # Noisy images as inputs, original images as targets\n",
    "        batch_cost, _ = sess.run([cost, opt], feed_dict={inputs_: noisy_imgs,\n",
    "                                                         targets_: imgs})\n",
    "\n",
    "        if ii==0 or (ii+1)%50==0:\n",
    "            print(\"Epoch: {}/{}...\".format(e+1, epochs),\n",
    "                  \"Batch: {}/{}...\".format(ii+1, mnist.train.num_examples//batch_size),\n",
    "                  \"Training loss: {:.4f}\".format(batch_cost))"
   ]
  },
  {
   "cell_type": "markdown",
   "metadata": {},
   "source": [
    "## Checking out the performance\n",
    "\n",
    "Here I'm adding noise to the test images and passing them through the autoencoder. It does a suprisingly great job of removing the noise, even though it's sometimes difficult to tell what the original number is."
   ]
  },
  {
   "cell_type": "code",
   "execution_count": 27,
   "metadata": {
    "collapsed": false
   },
   "outputs": [
    {
     "data": {
      "image/png": "[encoded data removed]",
      "text/plain": [
       "<matplotlib.figure.Figure at 0x11c3b40f0>"
      ]
     },
     "metadata": {},
     "output_type": "display_data"
    }
   ],
   "source": [
    "fig, axes = plt.subplots(nrows=2, ncols=10, sharex=True, sharey=True, figsize=(20,4))\n",
    "in_imgs = mnist.test.images[:10]\n",
    "noisy_imgs = in_imgs + noise_factor * np.random.randn(*in_imgs.shape)\n",
    "noisy_imgs = np.clip(noisy_imgs, 0., 1.)\n",
    "\n",
    "reconstructed = sess.run(decoded, feed_dict={inputs_: noisy_imgs.reshape((10, 28, 28, 1))})\n",
    "\n",
    "for images, row in zip([noisy_imgs, reconstructed], axes):\n",
    "    for img, ax in zip(images, row):\n",
    "        ax.imshow(img.reshape((28, 28)), cmap='Greys_r')\n",
    "        ax.get_xaxis().set_visible(False)\n",
    "        ax.get_yaxis().set_visible(False)\n",
    "\n",
    "fig.tight_layout(pad=0.1)"
   ]
  },
  {
   "cell_type": "code",
   "execution_count": null,
   "metadata": {
    "collapsed": true
   },
   "outputs": [],
   "source": []
  }
 ],
 "metadata": {
  "kernelspec": {
   "display_name": "Python 3",
   "language": "python",
   "name": "python3"
  },
  "language_info": {
   "codemirror_mode": {
    "name": "ipython",
    "version": 3
   },
   "file_extension": ".py",
   "mimetype": "text/x-python",
   "name": "python",
   "nbconvert_exporter": "python",
   "pygments_lexer": "ipython3",
   "version": "3.6.0"
  }
 },
 "nbformat": 4,
 "nbformat_minor": 2
}
